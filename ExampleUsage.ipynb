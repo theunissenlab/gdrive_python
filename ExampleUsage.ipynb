{
 "cells": [
  {
   "cell_type": "markdown",
   "metadata": {},
   "source": [
    "# gdrive-access demo\n",
    "\n",
    "A simple example of creating a folder, uploading a file, and downloading a folder."
   ]
  },
  {
   "cell_type": "code",
   "execution_count": 1,
   "metadata": {},
   "outputs": [],
   "source": [
    "from gdrive_access import GDriveCommands"
   ]
  },
  {
   "cell_type": "markdown",
   "metadata": {},
   "source": [
    "### 1 Initialize the GDriveCommands object"
   ]
  },
  {
   "cell_type": "code",
   "execution_count": 2,
   "metadata": {},
   "outputs": [],
   "source": [
    "g = GDriveCommands(\"settings.yaml\")"
   ]
  },
  {
   "cell_type": "markdown",
   "metadata": {},
   "source": [
    "### 2 Find the root directory"
   ]
  },
  {
   "cell_type": "code",
   "execution_count": 3,
   "metadata": {},
   "outputs": [],
   "source": [
    "root = g.get_root(\"ExampleFolder\")"
   ]
  },
  {
   "cell_type": "code",
   "execution_count": 4,
   "metadata": {},
   "outputs": [
    {
     "data": {
      "text/plain": [
       "ExampleFolder\t\tapplication/vnd.google-apps.folder\t2020-11-05T04:16:59.567Z\t2020-11-05T04:36:00.244Z"
      ]
     },
     "execution_count": 4,
     "metadata": {},
     "output_type": "execute_result"
    }
   ],
   "source": [
    "root"
   ]
  },
  {
   "cell_type": "code",
   "execution_count": 5,
   "metadata": {},
   "outputs": [
    {
     "data": {
      "text/plain": [
       "0:\t\texample_1.txt\t\ttext/plain\t2020-11-05T04:49:07.322Z\t2020-11-05T04:49:17.137Z\n",
       "1:\t\texample.txt\t\ttext/plain\t2020-11-05T04:20:20.775Z\t2020-11-05T04:19:27.000Z\n",
       "<class 'gdrive_access.display.PyDriveListWrapper'>"
      ]
     },
     "execution_count": 5,
     "metadata": {},
     "output_type": "execute_result"
    }
   ],
   "source": [
    "g.ls(root)"
   ]
  },
  {
   "cell_type": "markdown",
   "metadata": {},
   "source": [
    "### 3 Create a new empty folder"
   ]
  },
  {
   "cell_type": "code",
   "execution_count": 6,
   "metadata": {},
   "outputs": [],
   "source": [
    "new_folder = g.create_folder(root, \"new_folder\")"
   ]
  },
  {
   "cell_type": "code",
   "execution_count": 7,
   "metadata": {},
   "outputs": [
    {
     "data": {
      "text/plain": [
       "0:\t\tnew_folder\t\tapplication/vnd.google-apps.folder\t2020-11-05T05:32:14.719Z\t2020-11-05T05:32:14.719Z\n",
       "1:\t\texample_1.txt\t\ttext/plain\t2020-11-05T04:49:07.322Z\t2020-11-05T04:49:17.137Z\n",
       "2:\t\texample.txt\t\ttext/plain\t2020-11-05T04:20:20.775Z\t2020-11-05T04:19:27.000Z\n",
       "<class 'gdrive_access.display.PyDriveListWrapper'>"
      ]
     },
     "execution_count": 7,
     "metadata": {},
     "output_type": "execute_result"
    }
   ],
   "source": [
    "g.ls(root)"
   ]
  },
  {
   "cell_type": "code",
   "execution_count": 8,
   "metadata": {},
   "outputs": [
    {
     "data": {
      "text/plain": [
       "<folder empty>"
      ]
     },
     "execution_count": 8,
     "metadata": {},
     "output_type": "execute_result"
    }
   ],
   "source": [
    "g.ls(root, \"new_folder\")"
   ]
  },
  {
   "cell_type": "markdown",
   "metadata": {},
   "source": [
    "### 4 Upload a local file to the newly created folder\n",
    "\n",
    "Note that\n",
    "\n",
    "```python\n",
    "g.upload_file(\"local_csv_file.jpg\", g.find(root, \"new_folder\"))\n",
    "```\n",
    "\n",
    "would also work!"
   ]
  },
  {
   "cell_type": "code",
   "execution_count": 9,
   "metadata": {},
   "outputs": [],
   "source": [
    "g.upload_file(\"local_csv_file.jpg\", new_folder)"
   ]
  },
  {
   "cell_type": "code",
   "execution_count": 10,
   "metadata": {},
   "outputs": [
    {
     "data": {
      "text/plain": [
       "True"
      ]
     },
     "execution_count": 10,
     "metadata": {},
     "output_type": "execute_result"
    }
   ],
   "source": [
    "g.exists(root, \"new_folder\", \"local_csv_file.jpg\")"
   ]
  },
  {
   "cell_type": "code",
   "execution_count": 11,
   "metadata": {},
   "outputs": [
    {
     "data": {
      "text/plain": [
       "0:\t\tlocal_csv_file.jpg\t\timage/jpeg\t2020-11-05T05:32:18.322Z\t2020-11-05T05:32:18.322Z\n",
       "<class 'gdrive_access.display.PyDriveListWrapper'>"
      ]
     },
     "execution_count": 11,
     "metadata": {},
     "output_type": "execute_result"
    }
   ],
   "source": [
    "g.ls(new_folder)"
   ]
  },
  {
   "cell_type": "markdown",
   "metadata": {},
   "source": [
    "### 5 Download the entire root folder"
   ]
  },
  {
   "cell_type": "code",
   "execution_count": 12,
   "metadata": {},
   "outputs": [],
   "source": [
    "g.download_folder(root, \"temp_local_dir\", overwrite=False)"
   ]
  },
  {
   "cell_type": "code",
   "execution_count": null,
   "metadata": {},
   "outputs": [],
   "source": [
    "!ls -alh temp_local_dir"
   ]
  }
 ],
 "metadata": {
  "kernelspec": {
   "display_name": "Python 3",
   "language": "python",
   "name": "python3"
  },
  "language_info": {
   "codemirror_mode": {
    "name": "ipython",
    "version": 3
   },
   "file_extension": ".py",
   "mimetype": "text/x-python",
   "name": "python",
   "nbconvert_exporter": "python",
   "pygments_lexer": "ipython3",
   "version": "3.9.0"
  }
 },
 "nbformat": 4,
 "nbformat_minor": 4
}
