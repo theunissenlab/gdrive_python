{
 "cells": [
  {
   "cell_type": "markdown",
   "metadata": {},
   "source": [
    "# gdrive-access demo\n",
    "\n",
    "A simple example of creating a folder, uploading a file, and downloading a folder."
   ]
  },
  {
   "cell_type": "code",
   "execution_count": 1,
   "metadata": {},
   "outputs": [],
   "source": [
    "from gdrive_access import GDriveCommands"
   ]
  },
  {
   "cell_type": "markdown",
   "metadata": {},
   "source": [
    "### 0 Credentials\n",
    "If you have not set up credentials, run the script\n",
    "\n",
    "```\n",
    "setup_gdrive_credentials -d DIR\n",
    "```\n",
    "\n",
    "where DIR is the folder you want to store the credential files in. The credentials will contain a file called `settings.yaml`.\n",
    "\n",
    "Note: an alias for the `setup_gdrive_credentials` script is\n",
    "\n",
    "```\n",
    "python -m gdrive_access.setup_credentials\n",
    "```\n",
    "\n",
    "### 1 Initialize the GDriveCommands object\n",
    "\n",
    "Point it at the \"settings.yaml\" file in your credentials location"
   ]
  },
  {
   "cell_type": "code",
   "execution_count": 2,
   "metadata": {},
   "outputs": [],
   "source": [
    "g = GDriveCommands(\"credentials/settings.yaml\")"
   ]
  },
  {
   "cell_type": "markdown",
   "metadata": {},
   "source": [
    "### 2 List the contents of a directory with g.ls(...)\n",
    "\n",
    "It can take a `string` or an instance of `pydrive2.files.GoogleDriveFile`. With no arguments, it lists all directories in your root drive."
   ]
  },
  {
   "cell_type": "code",
   "execution_count": 3,
   "metadata": {
    "scrolled": true
   },
   "outputs": [
    {
     "data": {
      "text/plain": [
       "0: example.txt\n",
       "\ttext/plain\n",
       "1: example_1.txt\n",
       "\ttext/plain\n",
       "<class 'gdrive_access.display.PyDriveListWrapper'>"
      ]
     },
     "execution_count": 3,
     "metadata": {},
     "output_type": "execute_result"
    }
   ],
   "source": [
    "g.ls(\"ExampleFolder\")"
   ]
  },
  {
   "cell_type": "markdown",
   "metadata": {},
   "source": [
    "### 3 Get a pointer to a folder you want to create files in"
   ]
  },
  {
   "cell_type": "code",
   "execution_count": 4,
   "metadata": {},
   "outputs": [],
   "source": [
    "folder = g.find(\"ExampleFolder\")"
   ]
  },
  {
   "cell_type": "code",
   "execution_count": 5,
   "metadata": {},
   "outputs": [
    {
     "data": {
      "text/plain": [
       "pydrive2.files.GoogleDriveFile"
      ]
     },
     "execution_count": 5,
     "metadata": {},
     "output_type": "execute_result"
    }
   ],
   "source": [
    "type(folder)"
   ]
  },
  {
   "cell_type": "markdown",
   "metadata": {},
   "source": [
    "### 4 Create a new empty folder"
   ]
  },
  {
   "cell_type": "code",
   "execution_count": 6,
   "metadata": {},
   "outputs": [],
   "source": [
    "new_folder = g.create_folder(folder, \"new_folder\")"
   ]
  },
  {
   "cell_type": "code",
   "execution_count": 7,
   "metadata": {},
   "outputs": [
    {
     "data": {
      "text/plain": [
       "0: new_folder\n",
       "\tapplication/vnd.google-apps.folder\n",
       "1: example.txt\n",
       "\ttext/plain\n",
       "2: example_1.txt\n",
       "\ttext/plain\n",
       "<class 'gdrive_access.display.PyDriveListWrapper'>"
      ]
     },
     "execution_count": 7,
     "metadata": {},
     "output_type": "execute_result"
    }
   ],
   "source": [
    "g.ls(\"ExampleFolder\")  # AKA g.ls(folder)"
   ]
  },
  {
   "cell_type": "code",
   "execution_count": 8,
   "metadata": {},
   "outputs": [
    {
     "data": {
      "text/plain": [
       "<folder empty>"
      ]
     },
     "execution_count": 8,
     "metadata": {},
     "output_type": "execute_result"
    }
   ],
   "source": [
    "g.ls(\"ExampleFolder\", \"new_folder\")  # AKA g.ls(folder, \"new_folder\")"
   ]
  },
  {
   "cell_type": "markdown",
   "metadata": {},
   "source": [
    "### 5 Upload a local file to the newly created folder\n",
    "\n",
    "Note that\n",
    "\n",
    "```python\n",
    "g.upload_file(\"local_csv_file.jpg\", g.find(folder, \"new_folder\"))\n",
    "```\n",
    "\n",
    "would also work!"
   ]
  },
  {
   "cell_type": "code",
   "execution_count": 9,
   "metadata": {},
   "outputs": [
    {
     "name": "stderr",
     "output_type": "stream",
     "text": [
      "INFO:gdrive_access.access.GDriveCommands:Uploading local_csv_file.jpg to new_folder\n",
      "INFO:gdrive_access.access.GDriveCommands:Uploaded local_csv_file.jpg to new_folder\n"
     ]
    }
   ],
   "source": [
    "g.upload_file(\"local_csv_file.jpg\", new_folder)"
   ]
  },
  {
   "cell_type": "code",
   "execution_count": 10,
   "metadata": {},
   "outputs": [
    {
     "data": {
      "text/plain": [
       "True"
      ]
     },
     "execution_count": 10,
     "metadata": {},
     "output_type": "execute_result"
    }
   ],
   "source": [
    "g.exists(folder, \"new_folder\", \"local_csv_file.jpg\")"
   ]
  },
  {
   "cell_type": "code",
   "execution_count": 11,
   "metadata": {},
   "outputs": [
    {
     "data": {
      "text/plain": [
       "0: local_csv_file.jpg\n",
       "\timage/jpeg\n",
       "<class 'gdrive_access.display.PyDriveListWrapper'>"
      ]
     },
     "execution_count": 11,
     "metadata": {},
     "output_type": "execute_result"
    }
   ],
   "source": [
    "g.ls(new_folder)"
   ]
  },
  {
   "cell_type": "markdown",
   "metadata": {},
   "source": [
    "### 5 Download the entire root folder\n",
    "\n",
    "Specifying the `g.Overwrite.NEVER` mode will prevent data from being overwritten if the save location already exists."
   ]
  },
  {
   "cell_type": "code",
   "execution_count": 12,
   "metadata": {},
   "outputs": [],
   "source": [
    "g.download_folder(\n",
    "    g.find(\"ExampleFolder\"),\n",
    "    \"temp_local_dir\",\n",
    "    overwrite=g.Overwrite.NEVER\n",
    ")"
   ]
  },
  {
   "cell_type": "code",
   "execution_count": 13,
   "metadata": {},
   "outputs": [
    {
     "name": "stdout",
     "output_type": "stream",
     "text": [
      "total 8.0K\r\n",
      "drwxrwxrwx 1 kevin root    0 Jun 22 16:44 .\r\n",
      "drwxrwxrwx 1 kevin root 8.0K Jun 22 16:45 ..\r\n",
      "drwxrwxrwx 1 kevin root    0 Jun 22 16:44 ExampleFolder\r\n"
     ]
    }
   ],
   "source": [
    "!ls -alh temp_local_dir"
   ]
  },
  {
   "cell_type": "code",
   "execution_count": null,
   "metadata": {},
   "outputs": [],
   "source": []
  }
 ],
 "metadata": {
  "kernelspec": {
   "display_name": "Python 3",
   "language": "python",
   "name": "python3"
  },
  "language_info": {
   "codemirror_mode": {
    "name": "ipython",
    "version": 3
   },
   "file_extension": ".py",
   "mimetype": "text/x-python",
   "name": "python",
   "nbconvert_exporter": "python",
   "pygments_lexer": "ipython3",
   "version": "3.8.5"
  }
 },
 "nbformat": 4,
 "nbformat_minor": 4
}
